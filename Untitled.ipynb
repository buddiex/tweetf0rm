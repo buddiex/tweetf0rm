{
 "cells": [
  {
   "cell_type": "code",
   "execution_count": 4,
   "metadata": {},
   "outputs": [
    {
     "data": {
      "text/plain": [
       "'oracle+cx_oracle://system:oracle@(DESCRIPTION = (LOAD_BALANCE=on) (FAILOVER=ON) (ADDRESS = (PROTOCOL = TCP)\\n                     (HOST = localhost)(PORT = 1520))(CONNECT_DATA = (SERVER = DEDICATED) (SID=xe)))'"
      ]
     },
     "execution_count": 4,
     "metadata": {},
     "output_type": "execute_result"
    }
   ],
   "source": [
    "# import dask.dataframe as dd\n",
    "# import dask.bag as db\n",
    "import pandas as pd\n",
    "import json, sys\n",
    "import cx_Oracle\n",
    "import config\n",
    "from sqlalchemy import create_engine\n",
    "import sqlalchemy.engine.url as url\n",
    "from pandas.io.json import json_normalize\n",
    "data = 'data/followers/gtbank'\n",
    "\n",
    "try:\n",
    "  oraconn = cx_Oracle.connect(user=config.ORACLE_USER, password=config.ORACLE_PASSWORD, dsn=config.ORACLE_DSN)\n",
    "except cx_Oracle.DatabaseError as exception:\n",
    "  raise\n",
    "\n",
    "db_eng = create_engine(config.SQLALCHEMY_DATABASE_URI, encoding='utf8')\n",
    "\n",
    "\n",
    "engine_url = url.URL(\n",
    "    drivername='oracle+' + 'cx_oracle',\n",
    "    host='localhost',\n",
    "    port='1520',\n",
    "    username=config.ORACLE_USER,\n",
    "    password=config.ORACLE_PASSWORD,\n",
    "    database='XE',\n",
    "    query={'charset': 'utf-8'}\n",
    ")\n",
    "db = create_engine(engine_url, encoding='utf-8')\n",
    "config.SQLALCHEMY_DATABASE_URI"
   ]
  },
  {
   "cell_type": "code",
   "execution_count": 2,
   "metadata": {
    "scrolled": true
   },
   "outputs": [],
   "source": [
    "def load_list(rows_list):\n",
    "    df = pd.DataFrame(rows_list)\n",
    "    df = df[['screen_name','description']]\n",
    "    for i in df.loc[:, df.dtypes == object].columns: \n",
    "        df[i].str.encode('ascii', 'ignore').str.decode('ascii')\n",
    "    df.to_sql('data', db, if_exists='replace')\n",
    "    \n",
    "\n",
    "def get_chunked_json(chunksize):\n",
    "    if db_eng.has_table('data'):\n",
    "        db_eng.execute('drop table data')\n",
    "    with open(data, \"r\") as fo:\n",
    "        rows_list, cnt = [], 1\n",
    "        for ln in fo: \n",
    "            rows_list.append(json.loads(ln))\n",
    "            if cnt % chunksize == 0:\n",
    "                load_list(rows_list)\n",
    "                rows_list=[]\n",
    "                print('loaded {}'.format(cnt))\n",
    "            if cnt == 1000:\n",
    "                break\n",
    "            cnt +=1 \n",
    "        if rows_list:\n",
    "            load_list(rows_list)\n",
    "# get_chunked_json(100000)            "
   ]
  },
  {
   "cell_type": "code",
   "execution_count": 21,
   "metadata": {},
   "outputs": [],
   "source": [
    "b = db.read_text(data).map(json.loads)\n",
    "# df = b.to_dataframe().head(100)\n",
    "# oraconn, db_eng"
   ]
  },
  {
   "cell_type": "code",
   "execution_count": 19,
   "metadata": {},
   "outputs": [],
   "source": [
    "\n",
    "df2 = df[['screen_name','id_str','description', 'created_at', 'default_profile',\n",
    "'default_profile_image', 'entities','statuses_count', 'favourites_count','followers_count', \n",
    "'friends_count', 'listed_count','geo_enabled', 'lang','location', 'name', 'profile_background_image_url',\n",
    "'profile_banner_url', 'profile_image_url', 'protected', 'time_zone',\n",
    "'url', 'utc_offset', 'verified']]"
   ]
  },
  {
   "cell_type": "code",
   "execution_count": 19,
   "metadata": {},
   "outputs": [],
   "source": [
    "db_eng2 = create_engine('sqlite:///sql_data.db')\n",
    "\n",
    "def run_sql(sql):\n",
    "    try:\n",
    "        rtn = pd.read_sql(sql, db_eng2)\n",
    "    except AttributeError as err:\n",
    "        pass\n",
    "    \n",
    "    return rtn                \n",
    "    \n",
    "sql = \"\"\"\n",
    "select screen_name, description, created_at, default_profile, default_profile_image, \n",
    "statuses_count, favourites_count, followers_count, friends_count, listed_count, geo_enabled, lang, location,\n",
    "name, protected, time_zone, url,utc_offset, verified\n",
    "from user_with_description \n",
    "where description is not null\n",
    "limit 100\n",
    "\"\"\"\n",
    "\n",
    "df = run_sql(sql)\n",
    "# df.head()\n",
    "# for i in df.loc[:, df.dtypes == object].columns: \n",
    "#     df[i].str.encode('utf8')\n",
    "\n",
    "# # df.description \n",
    "\n",
    "df = df[['screen_name', 'name','description', 'created_at','statuses_count', 'favourites_count','followers_count', \n",
    "'friends_count', 'listed_count']]"
   ]
  },
  {
   "cell_type": "code",
   "execution_count": null,
   "metadata": {},
   "outputs": [],
   "source": []
  },
  {
   "cell_type": "code",
   "execution_count": null,
   "metadata": {},
   "outputs": [],
   "source": []
  }
 ],
 "metadata": {
  "kernelspec": {
   "display_name": "Python 2",
   "language": "python",
   "name": "python2"
  },
  "language_info": {
   "codemirror_mode": {
    "name": "ipython",
    "version": 2
   },
   "file_extension": ".py",
   "mimetype": "text/x-python",
   "name": "python",
   "nbconvert_exporter": "python",
   "pygments_lexer": "ipython2",
   "version": "2.7.5"
  }
 },
 "nbformat": 4,
 "nbformat_minor": 2
}
