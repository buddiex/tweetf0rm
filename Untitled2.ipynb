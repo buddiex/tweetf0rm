{
 "cells": [
  {
   "cell_type": "code",
   "execution_count": 1,
   "metadata": {
    "collapsed": false
   },
   "outputs": [
    {
     "data": {
      "text/plain": [
       "'{\"status\":{\"code\":\"100\",\"msg\":\"Operation denied\",\"credits\":\"0\",\"remaining_credits\":\"40000\"}}'"
      ]
     },
     "execution_count": 1,
     "metadata": {},
     "output_type": "execute_result"
    }
   ],
   "source": [
    "import requests\n",
    "from config import conf\n",
    "\n",
    "url = \"http://api.meaningcloud.com/userprofiling-2.0\"\n",
    "\n",
    "key = '77eb901dedd7e6c2379479bae35b07d1'\n",
    "mode = 'th'\n",
    "appkey = conf['apikeys']['gtapp02']\n",
    "tw_ckey  = appkey['app_key']\n",
    "tw_csecret = appkey['app_secret']\n",
    "tw_utoken = appkey['oauth_token']\n",
    "tw_usecret = appkey['oauth_token_secret']\n",
    "tw_tweets = 100\n",
    "login = 'osayamenomigie'\n",
    "\n",
    "payload = \"key={}&login={}&mode={}&tw_ckey={}&tw_csecret={}&tw_utoken={}&tw_usecret={}&tw_tweets={}\".format(\n",
    "           key,login,mode,tw_ckey,tw_csecret,tw_utoken,tw_usecret,tw_tweets)\n",
    "headers = {'content-type': 'application/x-www-form-urlencoded'}\n",
    "\n",
    "response = requests.request(\"POST\", url, data=payload, headers=headers)\n",
    "\n",
    "response.text"
   ]
  },
  {
   "cell_type": "code",
   "execution_count": 16,
   "metadata": {
    "collapsed": false
   },
   "outputs": [],
   "source": [
    "from monkeylearn import MonkeyLearn\n",
    " \n",
    "ml = MonkeyLearn('a2b1472b2ade90bf2887cce040db4e8fa8c88b77')\n",
    "data = {\n",
    "  \"twitter_user_name\": \"laibanky\",\n",
    "  \"twitter_access_token_key\": tw_utoken,\n",
    "  \"twitter_consumer_key\": tw_ckey,\n",
    "  \"twitter_consumer_secret\": tw_csecret,\n",
    "  \"twitter_access_token_secret\": tw_usecret\n",
    "}\n",
    "module_id = 'pi_JJ9JrKvk'\n",
    "res = ml.pipelines.run(module_id, data, sandbox=True)\n",
    "# res.result"
   ]
  },
  {
   "cell_type": "code",
   "execution_count": 22,
   "metadata": {
    "collapsed": false
   },
   "outputs": [],
   "source": [
    "from monkeylearn import MonkeyLearn\n",
    "\n",
    "ml = MonkeyLearn('a2b1472b2ade90bf2887cce040db4e8fa8c88b77')\n",
    "module_id = 'cl_5icAVzKR'\n",
    "res = ml.classifiers.classify(module_id, txt_list, sandbox=True)\n",
    "result = res.result"
   ]
  },
  {
   "cell_type": "code",
   "execution_count": null,
   "metadata": {
    "collapsed": false,
    "scrolled": false
   },
   "outputs": [],
   "source": [
    "\n"
   ]
  }
 ],
 "metadata": {
  "kernelspec": {
   "display_name": "Python 3",
   "language": "python",
   "name": "python3"
  },
  "language_info": {
   "codemirror_mode": {
    "name": "ipython",
    "version": 3
   },
   "file_extension": ".py",
   "mimetype": "text/x-python",
   "name": "python",
   "nbconvert_exporter": "python",
   "pygments_lexer": "ipython3",
   "version": "3.6.0"
  }
 },
 "nbformat": 4,
 "nbformat_minor": 2
}
