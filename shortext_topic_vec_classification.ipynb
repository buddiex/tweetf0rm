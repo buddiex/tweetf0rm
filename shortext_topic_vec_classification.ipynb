{
 "cells": [
  {
   "cell_type": "code",
   "execution_count": 1,
   "metadata": {},
   "outputs": [
    {
     "name": "stderr",
     "output_type": "stream",
     "text": [
      "Using Theano backend.\n"
     ]
    },
    {
     "name": "stdout",
     "output_type": "stream",
     "text": [
      "\n",
      "\u001b[93m    Warning: no model found for 'en'\u001b[0m\n",
      "\n",
      "    Only loading the 'en' tokenizer.\n",
      "\n",
      "\n",
      "\u001b[93m    Warning: no model found for 'en'\u001b[0m\n"
     ]
    },
    {
     "name": "stderr",
     "output_type": "stream",
     "text": [
      "/usr/lib/python2.7/site-packages/shorttext/generators/bow/AutoEncodingTopicModeling.py:53: UserWarning: Update your `Model` call to the Keras 2 API: `Model(outputs=sigmoid.0, inputs=/input_1)`\n",
      "  autoencoder = Model(input=input_vec, output=decoded)\n",
      "/usr/lib/python2.7/site-packages/shorttext/generators/bow/AutoEncodingTopicModeling.py:56: UserWarning: Update your `Model` call to the Keras 2 API: `Model(outputs=Elemwise{m..., inputs=/input_1)`\n",
      "  encoder = Model(input=input_vec, output=encoded)\n",
      "/usr/lib/python2.7/site-packages/shorttext/generators/bow/AutoEncodingTopicModeling.py:61: UserWarning: Update your `Model` call to the Keras 2 API: `Model(outputs=sigmoid.0, inputs=/input_2)`\n",
      "  decoder = Model(input=encoded_input, output=decoder_layer(encoded_input))\n"
     ]
    },
    {
     "name": "stdout",
     "output_type": "stream",
     "text": [
      "\n",
      "    Only loading the 'en' tokenizer.\n",
      "\n",
      "Epoch 1/1\n",
      "45/45 [==============================] - 0s - loss: 0.6944     \n"
     ]
    },
    {
     "data": {
      "text/plain": [
       "{'mathematics': 0.0, 'physics': 1.0, 'theology': 0.0}"
      ]
     },
     "execution_count": 1,
     "output_type": "execute_result",
     "metadata": {}
    }
   ],
   "source": [
    "import shorttext\n",
    "from sklearn.naive_bayes import GaussianNB\n",
    "from sklearn.linear_model import LogisticRegression\n",
    "\n",
    "# build feature vector\n",
    "subdict = shorttext.data.subjectkeywords()\n",
    "subtopicmodeler = shorttext.generators.GensimTopicModeler()\n",
    "subtopicmodeler.train(subdict, 8)\n",
    "# topicmodeler.retrieve_topicvec('stem cell research')\n",
    "# topicmodeler['stem cell research']\n",
    "# subtopicmodeler.savemodel('/path/to/subtopicmodeler8')\n",
    "# topicmodeler2 = shorttext.classifiers.load_gensimtopicmodel('/path/to/subtopicmodeler8')\n",
    "autoencoder = shorttext.generators.AutoencodingTopicModeler()\n",
    "autoencoder.train(subdict, 8)\n",
    "\n",
    "\n",
    "# traing the classifyer\n",
    "classifier = shorttext.classifiers.TopicVectorSkLearnClassifier(autoencoder, GaussianNB())\n",
    "classifier.train(subdict)\n",
    "\n",
    "#predict on a short text\n",
    "classifier.score(' prayer statistical')\n",
    "# classifier.save_compact_model('/path/to/sublda8nb.bin')\n",
    "# subdict"
   ]
  },
  {
   "cell_type": "code",
   "execution_count": 2,
   "metadata": {},
   "outputs": [
    {
     "name": "stderr",
     "output_type": "stream",
     "text": [
      "/usr/lib/python2.7/site-packages/shorttext/generators/bow/AutoEncodingTopicModeling.py:53: UserWarning: Update your `Model` call to the Keras 2 API: `Model(outputs=sigmoid.0, inputs=/input_3)`\n",
      "  autoencoder = Model(input=input_vec, output=decoded)\n",
      "/usr/lib/python2.7/site-packages/shorttext/generators/bow/AutoEncodingTopicModeling.py:56: UserWarning: Update your `Model` call to the Keras 2 API: `Model(outputs=Elemwise{m..., inputs=/input_3)`\n",
      "  encoder = Model(input=input_vec, output=encoded)\n",
      "/usr/lib/python2.7/site-packages/shorttext/generators/bow/AutoEncodingTopicModeling.py:61: UserWarning: Update your `Model` call to the Keras 2 API: `Model(outputs=sigmoid.0, inputs=/input_4)`\n",
      "  decoder = Model(input=encoded_input, output=decoder_layer(encoded_input))\n"
     ]
    },
    {
     "name": "stdout",
     "output_type": "stream",
     "text": [
      "Epoch 1/1\n",
      "45/45 [==============================] - 0s - loss: 0.7007     \n"
     ]
    }
   ],
   "source": [
    "import shorttext\n",
    "from sklearn.naive_bayes import GaussianNB\n",
    "from sklearn.linear_model import LogisticRegression\n",
    "\n",
    "subdict = shorttext.data.subjectkeywords()\n",
    "\n",
    "subtopicmodeler = shorttext.generators.GensimTopicModeler()\n",
    "subtopicmodeler.train(subdict, 8)\n",
    "\n",
    "autoencoder = shorttext.generators.AutoencodingTopicModeler()\n",
    "autoencoder.train(subdict, 8)\n",
    "\n",
    "classdict = shorttext.data.nihreports()\n",
    "\n",
    "topicmodeler = shorttext.generators.LDAModeler()\n",
    "topicmodeler.train(classdict, 128)"
   ]
  },
  {
   "cell_type": "code",
   "execution_count": 3,
   "metadata": {},
   "outputs": [
    {
     "data": {
      "text/plain": [
       "{'mathematics': 0.0, 'physics': 1.0, 'theology': 0.0}"
      ]
     },
     "execution_count": 3,
     "output_type": "execute_result",
     "metadata": {}
    }
   ],
   "source": [
    "classifier = shorttext.classifiers.TopicVectorSkLearnClassifier(subtopicmodeler, LogisticRegression())\n",
    "classifier.train(subdict)\n",
    "classifier.score('functional integral')"
   ]
  },
  {
   "cell_type": "code",
   "execution_count": 87,
   "metadata": {},
   "outputs": [
    {
     "data": {
      "text/plain": [
       "['mathematics', 'physics', 'theology']"
      ]
     },
     "execution_count": 87,
     "output_type": "execute_result",
     "metadata": {}
    }
   ],
   "source": [
    "cos_classifier = shorttext.classifiers.TopicVectorCosineDistanceClassifier(topicmodeler)\n",
    "cos_classifier.score('stem cell research')\n",
    "# topicmodeler.retrieve_topicvec(classdict['NIAAA'][0])\n",
    "# topicmodeler.retrieve_topicvec('osa')\n",
    "# topicmodeler['stem cell research']\n",
    "# topicmodeler.dictionary.id2token\n",
    "# classdict['NIAAA'][0]\n",
    "# topicmodeler\n",
    "# autoencoder['linear']\n",
    "subdict.keys()"
   ]
  }
 ],
 "metadata": {
  "kernelspec": {
   "display_name": "Python 2",
   "language": "python",
   "name": "python2"
  },
  "language_info": {
   "codemirror_mode": {
    "name": "ipython",
    "version": 2.0
   },
   "file_extension": ".py",
   "mimetype": "text/x-python",
   "name": "python",
   "nbconvert_exporter": "python",
   "pygments_lexer": "ipython2",
   "version": "2.7.5"
  }
 },
 "nbformat": 4,
 "nbformat_minor": 2
}